{
 "cells": [
  {
   "cell_type": "code",
   "execution_count": 8,
   "metadata": {},
   "outputs": [
    {
     "data": {
      "text/html": [
       "<div>\n",
       "<style scoped>\n",
       "    .dataframe tbody tr th:only-of-type {\n",
       "        vertical-align: middle;\n",
       "    }\n",
       "\n",
       "    .dataframe tbody tr th {\n",
       "        vertical-align: top;\n",
       "    }\n",
       "\n",
       "    .dataframe thead th {\n",
       "        text-align: right;\n",
       "    }\n",
       "</style>\n",
       "<table border=\"1\" class=\"dataframe\">\n",
       "  <thead>\n",
       "    <tr style=\"text-align: right;\">\n",
       "      <th></th>\n",
       "      <th>Otgruzka</th>\n",
       "    </tr>\n",
       "    <tr>\n",
       "      <th>date_oper</th>\n",
       "      <th></th>\n",
       "    </tr>\n",
       "  </thead>\n",
       "  <tbody>\n",
       "    <tr>\n",
       "      <td>2009-09-01</td>\n",
       "      <td>179667</td>\n",
       "    </tr>\n",
       "    <tr>\n",
       "      <td>2009-09-02</td>\n",
       "      <td>177670</td>\n",
       "    </tr>\n",
       "    <tr>\n",
       "      <td>2009-09-03</td>\n",
       "      <td>152112</td>\n",
       "    </tr>\n",
       "    <tr>\n",
       "      <td>2009-09-04</td>\n",
       "      <td>142938</td>\n",
       "    </tr>\n",
       "    <tr>\n",
       "      <td>2009-09-05</td>\n",
       "      <td>130741</td>\n",
       "    </tr>\n",
       "  </tbody>\n",
       "</table>\n",
       "</div>"
      ],
      "text/plain": [
       "            Otgruzka\n",
       "date_oper           \n",
       "2009-09-01    179667\n",
       "2009-09-02    177670\n",
       "2009-09-03    152112\n",
       "2009-09-04    142938\n",
       "2009-09-05    130741"
      ]
     },
     "execution_count": 8,
     "metadata": {},
     "output_type": "execute_result"
    }
   ],
   "source": [
    "from pandas import read_csv, DataFrame\n",
    "import statsmodels.api as sm\n",
    "from statsmodels.iolib.table import SimpleTable\n",
    "from sklearn.metrics import r2_score\n",
    "import ml_metrics as metrics\n",
    "\n",
    "dataset = read_csv('data/tovar_moving.txt',';', index_col=['date_oper'], parse_dates=['date_oper'], dayfirst=True)\n",
    "\n",
    "dataset.columns= ['Otgruzka']\n",
    "\n",
    "dataset.head()"
   ]
  },
  {
   "cell_type": "code",
   "execution_count": 10,
   "metadata": {},
   "outputs": [
    {
     "data": {
      "text/plain": [
       "date_oper\n",
       "2009-09-01    179667\n",
       "2009-09-02    177670\n",
       "2009-09-03    152112\n",
       "2009-09-04    142938\n",
       "2009-09-05    130741\n",
       "Name: Otgruzka, dtype: int64"
      ]
     },
     "execution_count": 10,
     "metadata": {},
     "output_type": "execute_result"
    }
   ],
   "source": [
    "otg = dataset.Otgruzka\n",
    "\n",
    "otg.head()"
   ]
  },
  {
   "cell_type": "code",
   "execution_count": null,
   "metadata": {},
   "outputs": [],
   "source": []
  }
 ],
 "metadata": {
  "kernelspec": {
   "display_name": "Python 3",
   "language": "python",
   "name": "python3"
  },
  "language_info": {
   "codemirror_mode": {
    "name": "ipython",
    "version": 3
   },
   "file_extension": ".py",
   "mimetype": "text/x-python",
   "name": "python",
   "nbconvert_exporter": "python",
   "pygments_lexer": "ipython3",
   "version": "3.7.3"
  }
 },
 "nbformat": 4,
 "nbformat_minor": 2
}
